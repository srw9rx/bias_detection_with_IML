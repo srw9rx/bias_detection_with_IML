{
 "cells": [
  {
   "cell_type": "code",
   "execution_count": 1,
   "id": "correct-skirt",
   "metadata": {},
   "outputs": [],
   "source": [
    "#import packages\n",
    "import pandas as pd\n",
    "import os\n",
    "import math\n",
    "from sklearn.feature_extraction.text import CountVectorizer"
   ]
  },
  {
   "cell_type": "code",
   "execution_count": 2,
   "id": "acknowledged-feelings",
   "metadata": {},
   "outputs": [],
   "source": [
    "from sklearn.metrics.pairwise import cosine_similarity\n",
    "\n",
    "def cosinesim(text1, text2, vectorizer):\n",
    "    sparse_matrix = vectorizer.fit_transform([text1])\n",
    "    doc_term_matrix = sparse_matrix.toarray()\n",
    "\n",
    "    tgt_transform = vectorizer.transform([text2]).toarray()\n",
    "    \n",
    "    tgt_cosine = cosine_similarity(doc_term_matrix,tgt_transform)\n",
    "    return tgt_cosine[0][0]"
   ]
  },
  {
   "cell_type": "code",
   "execution_count": 3,
   "id": "filled-bangkok",
   "metadata": {},
   "outputs": [],
   "source": [
    "import re\n",
    "#create lists\n",
    "limedf = pd.read_csv(os.path.join('mediabiaswithlime.tsv'), sep='\\t', header=0)\n",
    "shapdf = pd.read_csv(os.path.join('mediabiaswithshap.tsv'), sep='\\t', header=0)\n",
    "getorig = pd.read_csv(os.path.join('MBICcleaned.tsv'), sep='\\t', header=0)\n",
    "\n",
    "limevals = limedf['lime'].tolist()    \n",
    "newlime = []\n",
    "for line in limevals:\n",
    "    #print(line)\n",
    "    linestring = re.sub(r'[^a-zA-Z ]+', '', line)    \n",
    "    newlime.append(linestring)\n",
    "strings = limedf['text'].tolist()\n",
    "\n",
    "shapvals = shapdf['shap'].tolist()\n",
    "newshap = []\n",
    "for line in shapvals:\n",
    "    linestring = re.sub(r'[^a-zA-Z ]+', '', line)    \n",
    "    newshap.append(linestring)\n",
    "origlist = getorig['biased_words4'].tolist()\n",
    "neworig = []\n",
    "for line in origlist:\n",
    "    #print(line)\n",
    "    linestring = re.sub(r'[^a-zA-Z ]+', '', line)\n",
    "    #print(linestring)\n",
    "    neworig.append(linestring)\n",
    "vectorizer = CountVectorizer()\n",
    "a = vectorizer.fit_transform(origlist)"
   ]
  },
  {
   "cell_type": "code",
   "execution_count": 4,
   "id": "anonymous-serial",
   "metadata": {},
   "outputs": [
    {
     "name": "stdout",
     "output_type": "stream",
     "text": [
      "YouTube is making clear there will be no “birtherism” on its platform during this year’s U.S. presidential election – a belated response to a type of conspiracy theory more prevalent in the 2012 race. \n",
      " will  theory  this  year    there  \n",
      " belated birtherism [('will', -0.029252683519967963), ('theory', -0.022364252186906533), ('this', 0.019847166952076212), ('year', 0.015530691642299794), ('2012', 0.014233816452807494), ('there', 0.011122930501996121)] 0.0 theory    years  a  type  of  [('theory', 0.05429564897039397), ('2012', 0.012586184116931602), ('year’s', 0.008249086201644829), ('a', 0.0), ('type', -0.0026079764847514275), ('of', -0.012050332357414423)] 0.0 \n",
      "\n",
      "John Coughlin’s burgeoning career was recently shrouded in controversy after the U.S. Center for SafeSport placed a temporary restriction on his eligibility to be involved figure skating on Dec. 17, USA Today first reported.  \n",
      " after    John  was  be  his  \n",
      " unpopular lie through his teeth highly 0.4082482904638631 John  shrouded  Center  restriction  involved  USA  0.0 \n",
      "\n",
      "The ballooning cost of college and massive student loan debt is recognized as reaching crisis levels by politicians on both sides of the aisle. \n",
      " debt  on  college  crisis  politicians  and  \n",
      " the flames failings fanning as a person 0.0 The  massive  as  on  0.5773502691896258 \n",
      "\n"
     ]
    }
   ],
   "source": [
    "print(strings[0], '\\n', newlime[0],'\\n' ,neworig[0], limevals[0], cosinesim(neworig[0], newlime[0], vectorizer),newshap[0], shapvals[0], cosinesim(neworig[0], newshap[0], vectorizer),  '\\n')\n",
    "\n",
    "print(strings[234], '\\n', newlime[234],'\\n' ,neworig[234], cosinesim(neworig[234], newlime[234], vectorizer), newshap[234], cosinesim(neworig[234], newshap[234], vectorizer),  '\\n')\n",
    "print(strings[158], '\\n', newlime[158],'\\n' ,neworig[158], cosinesim(neworig[158], newlime[158], vectorizer),newshap[158], cosinesim(neworig[158], newshap[158], vectorizer),  '\\n')"
   ]
  },
  {
   "cell_type": "code",
   "execution_count": 5,
   "id": "excessive-studio",
   "metadata": {},
   "outputs": [
    {
     "name": "stdout",
     "output_type": "stream",
     "text": [
      "0.002021228228340178\n",
      "234\n"
     ]
    }
   ],
   "source": [
    "cosinesimslime = []\n",
    "for (lime, orig) in zip(newlime, neworig):\n",
    "    cosinesimslime.append(cosinesim(lime, orig, vectorizer))\n",
    "\n",
    "cosinesum = sum(cosinesimslime)/len(cosinesimslime)\n",
    "print(cosinesum)\n",
    "print(cosinesimslime.index(max(cosinesimslime)))\n"
   ]
  },
  {
   "cell_type": "code",
   "execution_count": 6,
   "id": "disciplinary-bridges",
   "metadata": {},
   "outputs": [
    {
     "name": "stdout",
     "output_type": "stream",
     "text": [
      "0.004352076545337145\n",
      "158\n"
     ]
    }
   ],
   "source": [
    "cosinesimsshap = []\n",
    "\n",
    "for (shap, orig) in zip(newshap, neworig):\n",
    "    cosinesimsshap.append(cosinesim(shap, orig, vectorizer))\n",
    "\n",
    "cosinesums = sum(cosinesimsshap)/len(cosinesimsshap)\n",
    "print(cosinesums)\n",
    "print(cosinesimsshap.index(max(cosinesimsshap)))"
   ]
  },
  {
   "cell_type": "code",
   "execution_count": 7,
   "id": "portuguese-ideal",
   "metadata": {},
   "outputs": [
    {
     "name": "stdout",
     "output_type": "stream",
     "text": [
      "0.3755144431346729\n"
     ]
    }
   ],
   "source": [
    "cosinesimsb = []\n",
    "\n",
    "for (shap, orig) in zip(newshap, newlime):\n",
    "    cosinesimsb.append(cosinesim(shap, orig, vectorizer))\n",
    "\n",
    "cosinesumsb = sum(cosinesimsb)/len(cosinesimsb)\n",
    "print(cosinesumsb)"
   ]
  },
  {
   "cell_type": "code",
   "execution_count": 8,
   "id": "casual-belle",
   "metadata": {},
   "outputs": [
    {
     "data": {
      "image/png": "[encoded data removed]",
      "text/plain": [
       "<Figure size 432x288 with 1 Axes>"
      ]
     },
     "metadata": {
      "needs_background": "light"
     },
     "output_type": "display_data"
    }
   ],
   "source": [
    "import matplotlib.pyplot as plt\n",
    "import numpy as np\n",
    "\n",
    "plt.scatter(cosinesimslime, cosinesimsshap)\n",
    "plt.xlabel(\"cosine sim from lime\")\n",
    "plt.ylabel(\"cosine sim from shap\")\n",
    "plt.title(\"cosine similarities\")\n",
    "plt.show()"
   ]
  },
  {
   "cell_type": "code",
   "execution_count": 9,
   "id": "provincial-scratch",
   "metadata": {},
   "outputs": [],
   "source": [
    "origlisttokens = []\n",
    "limelisttokens = []\n",
    "shaplisttokens = []\n",
    "for string in neworig:\n",
    "    for token in string.split(\" \"):\n",
    "        origlisttokens.append(token)\n",
    "for string in newlime:\n",
    "    for token in string.split(\" \"):\n",
    "        limelisttokens.append(token)\n",
    "for string in newshap:    \n",
    "    for token in string.split(\" \"):\n",
    "        shaplisttokens.append(token)"
   ]
  },
  {
   "cell_type": "code",
   "execution_count": 10,
   "id": "ignored-benjamin",
   "metadata": {},
   "outputs": [
    {
     "name": "stdout",
     "output_type": "stream",
     "text": [
      "origcounter:\n",
      "('', 332) ('white', 28)\n",
      "('white', 28) ('white', 28)\n",
      "('of', 18) ('white', 28)\n",
      "('radical', 14) ('white', 28)\n",
      "('massive', 13) ('white', 28)\n",
      "('prolife', 11) ('white', 28)\n",
      "('slammed', 11) ('white', 28)\n",
      "('false', 11) ('white', 28)\n",
      "('threatened', 11) ('white', 28)\n",
      "('dangerous', 11) ('white', 28)\n",
      "('illegal', 11) ('white', 28)\n",
      "limecounter:\n",
      "('', 9536) ('of', 281)\n",
      "('of', 281) ('of', 281)\n",
      "('and', 264) ('of', 281)\n",
      "('has', 235) ('of', 281)\n",
      "('to', 198) ('of', 281)\n",
      "('in', 166) ('of', 281)\n",
      "('the', 158) ('of', 281)\n",
      "('after', 99) ('of', 281)\n",
      "('people', 88) ('of', 281)\n",
      "('at', 87) ('of', 281)\n",
      "shapcounter:\n",
      "('', 9566) ('the', 418)\n",
      "('the', 418) ('the', 418)\n",
      "('to', 266) ('the', 418)\n",
      "('of', 233) ('the', 418)\n",
      "('The', 214) ('the', 418)\n",
      "('a', 185) ('the', 418)\n",
      "('and', 184) ('the', 418)\n",
      "('in', 138) ('the', 418)\n",
      "('that', 117) ('the', 418)\n"
     ]
    }
   ],
   "source": [
    "#print(origlisttokens[0])\n",
    "from collections import Counter\n",
    "origcount = Counter(origlisttokens)\n",
    "origcounter = sorted(origcount.items(), key=lambda item: item[1], reverse=True)\n",
    "limecount = Counter(limelisttokens)\n",
    "limecounter =sorted(limecount.items(), key=lambda item: item[1], reverse=True)\n",
    "shapcount = Counter(shaplisttokens)\n",
    "shapcounter =sorted(shapcount.items(), key=lambda item: item[1], reverse=True)\n",
    "print('origcounter:')\n",
    "count = 0\n",
    "for letter in origcounter:\n",
    "    print(letter, origcounter[1])\n",
    "    count+=1\n",
    "    if count > 10:\n",
    "        break\n",
    "print('limecounter:')\n",
    "for letter in limecounter:\n",
    "    print(letter, limecounter[1])\n",
    "    count+=1\n",
    "    if count >20:\n",
    "        break\n",
    "        \n",
    "print('shapcounter:')\n",
    "for letter in shapcounter:\n",
    "    print(letter, shapcounter[1])\n",
    "    count+=1\n",
    "    if count >= 30:\n",
    "        break\n"
   ]
  },
  {
   "cell_type": "code",
   "execution_count": null,
   "id": "resident-contrast",
   "metadata": {},
   "outputs": [],
   "source": []
  },
  {
   "cell_type": "code",
   "execution_count": null,
   "id": "reasonable-produce",
   "metadata": {},
   "outputs": [],
   "source": []
  }
 ],
 "metadata": {
  "kernelspec": {
   "display_name": "Python 3 (ipykernel)",
   "language": "python",
   "name": "python3"
  },
  "language_info": {
   "codemirror_mode": {
    "name": "ipython",
    "version": 3
   },
   "file_extension": ".py",
   "mimetype": "text/x-python",
   "name": "python",
   "nbconvert_exporter": "python",
   "pygments_lexer": "ipython3",
   "version": "3.9.0"
  }
 },
 "nbformat": 4,
 "nbformat_minor": 5
}
